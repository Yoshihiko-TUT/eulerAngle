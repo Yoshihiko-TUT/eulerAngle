{
 "cells": [
  {
   "cell_type": "markdown",
   "metadata": {},
   "source": [
    "# カメラの位置姿勢を求める"
   ]
  },
  {
   "cell_type": "code",
   "execution_count": null,
   "metadata": {},
   "outputs": [],
   "source": [
    "import cv2\n",
    "import numpy as np\n",
    "import matplotlib.pyplot as plt\n",
    "from skvideo.io import vread\n",
    "import moviepy.editor as mpy\n",
    "from tqdm import tqdm\n",
    "from mpl_toolkits.mplot3d import axes3d, Axes3D\n",
    "from IPython.display import Image\n",
    "\n",
    "def npy_to_gif(npy, filename):\n",
    "    clip = mpy.ImageSequenceClip(list(npy), fps=10)\n",
    "    clip.write_gif(filename)"
   ]
  },
  {
   "cell_type": "markdown",
   "metadata": {},
   "source": [
    "### 1. 素材"
   ]
  },
  {
   "cell_type": "code",
   "execution_count": null,
   "metadata": {},
   "outputs": [],
   "source": [
    "vid = vread(\"src/shisa.mp4\")\n",
    "print(vid.shape)"
   ]
  },
  {
   "cell_type": "markdown",
   "metadata": {},
   "source": [
    "### 2. アルコマーカー"
   ]
  },
  {
   "cell_type": "code",
   "execution_count": null,
   "metadata": {},
   "outputs": [],
   "source": [
    "aruco_dict = cv2.aruco.getPredefinedDictionary(cv2.aruco.DICT_4X4_50)\n",
    "aruco = cv2.aruco.drawMarker(aruco_dict, 0, 256)\n",
    "plt.figure(figsize=(3,3)); plt.imshow(aruco); plt.show()\n",
    "# cv2.imwrite(\"aruco.png\", aruco)"
   ]
  },
  {
   "cell_type": "markdown",
   "metadata": {},
   "source": [
    "### 3. カメラの設定"
   ]
  },
  {
   "cell_type": "code",
   "execution_count": null,
   "metadata": {},
   "outputs": [],
   "source": [
    "marker_length = 0.07 # [m] ### 注意！\n",
    "mtx = np.load(\"camera/mtx.npy\")\n",
    "dist = np.load(\"camera/dist.npy\")\n",
    "print(mtx); print(dist)"
   ]
  },
  {
   "cell_type": "markdown",
   "metadata": {},
   "source": [
    "### 4. マーカーの検出"
   ]
  },
  {
   "cell_type": "code",
   "execution_count": null,
   "metadata": {},
   "outputs": [],
   "source": [
    "frame = vid[0]\n",
    "frame = frame[...,::-1]  # BGR2RGB\n",
    "frame = cv2.resize(frame, (360, 640))\n",
    "\n",
    "corners, ids, rejectedImgPoints = cv2.aruco.detectMarkers(frame, aruco_dict)\n",
    "rvec, tvec, _ = cv2.aruco.estimatePoseSingleMarkers(corners, marker_length, mtx, dist)\n",
    "\n",
    "# ---- 描画\n",
    "frame = cv2.aruco.drawDetectedMarkers(frame, corners, ids)\n",
    "frame = cv2.aruco.drawAxis(frame, mtx, dist, rvec, tvec, marker_length/2)\n",
    "# ----\n",
    "\n",
    "plt.imshow(frame[...,::-1]); plt.show()"
   ]
  },
  {
   "cell_type": "markdown",
   "metadata": {},
   "source": [
    "### 5. カメラの位置姿勢の計算"
   ]
  },
  {
   "cell_type": "code",
   "execution_count": null,
   "metadata": {},
   "outputs": [],
   "source": [
    "# def eulerAnglesToRotationMatrix(euler):\n",
    "#     R_x = np.array([[                1,                 0,                 0],\n",
    "#                     [                0,  np.cos(euler[0]), -np.sin(euler[0])],\n",
    "#                     [                0,  np.sin(euler[0]),  np.cos(euler[0])]])\n",
    "#     R_y = np.array([[ np.cos(euler[1]),                 0,  np.sin(euler[1])],\n",
    "#                     [ 0,                                1,                 0],\n",
    "#                     [-np.sin(euler[1]),                 0,  np.cos(euler[1])]])\n",
    "#     R_z = np.array([[ np.cos(euler[2]), -np.sin(euler[2]),                 0],\n",
    "#                     [ np.sin(euler[2]),  np.cos(euler[2]),                 0],\n",
    "#                     [                0,                 0,                 1]])\n",
    "#     R = np.dot(R_z, np.dot(R_y, R_x))\n",
    "#     return R"
   ]
  },
  {
   "cell_type": "code",
   "execution_count": null,
   "metadata": {},
   "outputs": [],
   "source": [
    "XYZ = []\n",
    "RPY = []\n",
    "V_x = []\n",
    "V_y = []\n",
    "V_z = []\n",
    "\n",
    "for frame in vid[:500:25]:  # 全部処理すると重いので…\n",
    "    frame = frame[...,::-1]  # BGR2RGB\n",
    "    frame = cv2.resize(frame, (360, 640))\n",
    "    corners, ids, _ = cv2.aruco.detectMarkers(frame, aruco_dict)\n",
    "\n",
    "    rvec, tvec, _ = cv2.aruco.estimatePoseSingleMarkers(corners, marker_length, mtx, dist)\n",
    "\n",
    "    R = cv2.Rodrigues(rvec)[0]  # 回転ベクトル -> 回転行列\n",
    "    R_T = R.T\n",
    "    T = tvec[0].T\n",
    "\n",
    "    xyz = np.dot(R_T, - T).squeeze()\n",
    "    XYZ.append(xyz)\n",
    "\n",
    "    rpy = np.deg2rad(cv2.RQDecomp3x3(R_T)[0])\n",
    "    RPY.append(rpy)\n",
    "    # print(rpy)\n",
    "\n",
    "    # rpy = cv2.decomposeProjectionMatrix(np.hstack([R_T, -T]))[6]  # [0~5]は使わない\n",
    "    # rpy = np.deg2rad(rpy.squeeze())\n",
    "    # print(rpy)\n",
    "\n",
    "    # r = np.arctan2(-R_T[2][1], R_T[2][2])\n",
    "    # p = np.arcsin(R_T[2][0])\n",
    "    # y = np.arctan2(-R_T[1][0], R_T[0][0])\n",
    "    # rpy = - np.array([r, p, y])\n",
    "    # print(rpy)\n",
    "\n",
    "    # from scipy.spatial.transform import Rotation\n",
    "    # diff = eulerAnglesToRotationMatrix(rpy) - R_T\n",
    "    # print(diff.astype(np.float16))\n",
    "    # diff = Rotation.from_euler('xyz', rpy).as_matrix() - R_T\n",
    "    # print(diff.astype(np.float16))\n",
    "    \n",
    "    V_x.append(np.dot(R_T, np.array([1,0,0])))\n",
    "    V_y.append(np.dot(R_T, np.array([0,1,0])))\n",
    "    V_z.append(np.dot(R_T, np.array([0,0,1])))\n",
    "\n",
    "    # ---- 描画\n",
    "    # cv2.aruco.drawDetectedMarkers(frame, corners, ids, (0,255,255))\n",
    "    # cv2.aruco.drawAxis(frame, mtx, dist, rvec, tvec, marker_length/2)\n",
    "    # cv2.imshow('frame', frame)\n",
    "    # cv2.waitKey(1)\n",
    "    # ----\n",
    "\n",
    "cv2.destroyAllWindows()"
   ]
  },
  {
   "cell_type": "code",
   "execution_count": null,
   "metadata": {},
   "outputs": [],
   "source": [
    "def plot_all_frames(elev=90, azim=270):\n",
    "    frames = []\n",
    "\n",
    "    for t in tqdm(range(len(XYZ))):\n",
    "        fig = plt.figure(figsize=(4,3))\n",
    "        ax = Axes3D(fig)\n",
    "        ax.view_init(elev=elev, azim=azim)\n",
    "        ax.set_xlim(-2, 2); ax.set_ylim(-2, 2); ax.set_zlim(-2, 2)\n",
    "        ax.set_xlabel(\"x\"); ax.set_ylabel(\"y\"); ax.set_zlabel(\"z\")\n",
    "\n",
    "        x, y, z = XYZ[t]\n",
    "        ux, vx, wx = V_x[t]\n",
    "        uy, vy, wy = V_y[t]\n",
    "        uz, vz, wz = V_z[t]\n",
    "\n",
    "        # draw marker\n",
    "        ax.scatter(0, 0, 0, color=\"k\")\n",
    "        ax.quiver(0, 0, 0, 1, 0, 0, length=1, color=\"r\")\n",
    "        ax.quiver(0, 0, 0, 0, 1, 0, length=1, color=\"g\")\n",
    "        ax.quiver(0, 0, 0, 0, 0, 1, length=1, color=\"b\")\n",
    "        ax.plot([-1,1,1,-1,-1], [-1,-1,1,1,-1], [0,0,0,0,0], color=\"k\", linestyle=\":\")\n",
    "\n",
    "        # draw camera\n",
    "        if t < 5:\n",
    "            ax.quiver(x, y, z, ux, vx, wx, length=0.5, color=\"k\")\n",
    "            ax.quiver(x, y, z, uy, vy, wy, length=0.5, color=\"k\")\n",
    "            ax.quiver(x, y, z, uz, vz, wz, length=0.5, color=\"k\")\n",
    "        else:\n",
    "            ax.quiver(x, y, z, ux, vx, wx, length=0.5, color=\"r\")\n",
    "            ax.quiver(x, y, z, uy, vy, wy, length=0.5, color=\"g\")\n",
    "            ax.quiver(x, y, z, uz, vz, wz, length=0.5, color=\"b\")\n",
    "\n",
    "        # save for animation\n",
    "        fig.canvas.draw()\n",
    "        frames.append(np.array(fig.canvas.renderer.buffer_rgba()))\n",
    "        plt.close()\n",
    "\n",
    "    return frames"
   ]
  },
  {
   "cell_type": "code",
   "execution_count": null,
   "metadata": {},
   "outputs": [],
   "source": [
    "frames = plot_all_frames(elev=105, azim=270)\n",
    "npy_to_gif(frames, \"src/sample1.gif\"); Image(url='src/sample1.gif')"
   ]
  },
  {
   "cell_type": "code",
   "execution_count": null,
   "metadata": {},
   "outputs": [],
   "source": [
    "frames = plot_all_frames(elev=165, azim=270)\n",
    "npy_to_gif(frames, \"src/sample2.gif\"); Image(url='src/sample2.gif')"
   ]
  },
  {
   "cell_type": "code",
   "execution_count": null,
   "metadata": {},
   "outputs": [],
   "source": [
    "plt.title(\"xyz\"); plt.plot(XYZ); plt.show()  # 青:x, 橙:y, 緑:z\n",
    "plt.title(\"rpy\"); plt.plot(RPY); plt.show()  # 青:r, 橙:p, 緑:y\n",
    "plt.title(\"(v_x)\"); plt.plot(V_x); plt.show()\n",
    "plt.title(\"(v_y)\"); plt.plot(V_y); plt.show()\n",
    "plt.title(\"(v_z)\"); plt.plot(V_z); plt.show()"
   ]
  }
 ],
 "metadata": {
  "interpreter": {
   "hash": "9b46ac77dc38e5559733924325c93f28a3415219a0165b86d0cbd4591659d01f"
  },
  "kernelspec": {
   "display_name": "Python 3.7.3 ('base')",
   "language": "python",
   "name": "python3"
  },
  "language_info": {
   "codemirror_mode": {
    "name": "ipython",
    "version": 3
   },
   "file_extension": ".py",
   "mimetype": "text/x-python",
   "name": "python",
   "nbconvert_exporter": "python",
   "pygments_lexer": "ipython3",
   "version": "3.7.3"
  }
 },
 "nbformat": 4,
 "nbformat_minor": 4
}
